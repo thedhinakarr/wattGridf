{
  "nbformat": 4,
  "nbformat_minor": 0,
  "metadata": {
    "colab": {
      "provenance": []
    },
    "kernelspec": {
      "name": "python3",
      "display_name": "Python 3"
    },
    "language_info": {
      "name": "python"
    }
  },
  "cells": [
    {
      "cell_type": "code",
      "source": [
        "!pip install fastdtw euclidean np"
      ],
      "metadata": {
        "colab": {
          "base_uri": "https://localhost:8080/"
        },
        "id": "lLuSuXbFpCIt",
        "outputId": "353ffb81-9ad0-4f85-86da-aa0956e8dc8a"
      },
      "execution_count": null,
      "outputs": [
        {
          "output_type": "stream",
          "name": "stdout",
          "text": [
            "Requirement already satisfied: fastdtw in /usr/local/lib/python3.11/dist-packages (0.3.4)\n",
            "Requirement already satisfied: euclidean in /usr/local/lib/python3.11/dist-packages (1.0.1)\n",
            "Collecting np\n",
            "  Downloading np-1.0.2.tar.gz (7.4 kB)\n",
            "  Preparing metadata (setup.py) ... \u001b[?25l\u001b[?25hdone\n",
            "Requirement already satisfied: numpy in /usr/local/lib/python3.11/dist-packages (from fastdtw) (1.26.4)\n",
            "Requirement already satisfied: sortedcontainers>=2 in /usr/local/lib/python3.11/dist-packages (from euclidean) (2.4.0)\n",
            "Requirement already satisfied: multipledispatch>=0.6 in /usr/local/lib/python3.11/dist-packages (from euclidean) (1.0.0)\n",
            "Building wheels for collected packages: np\n",
            "  Building wheel for np (setup.py) ... \u001b[?25l\u001b[?25hdone\n",
            "  Created wheel for np: filename=np-1.0.2-py3-none-any.whl size=13658 sha256=16323721db6e22caf70c66f1aac05839a9e32a2eb313f8c1527ca25614125395\n",
            "  Stored in directory: /root/.cache/pip/wheels/19/20/42/6ee214e617f78123903f603524d662ac6fa14154c3027fd992\n",
            "Successfully built np\n",
            "Installing collected packages: np\n",
            "Successfully installed np-1.0.2\n"
          ]
        }
      ]
    },
    {
      "cell_type": "code",
      "source": [
        "import numpy as np\n",
        "from fastdtw import fastdtw\n",
        "\n",
        "# Use a lambda function for scalar absolute difference\n",
        "distance_func = lambda x, y: abs(x - y)\n",
        "\n",
        "np.random.seed(42)\n",
        "num_pocs = 5      # Number of Points of Connection (POCs)\n",
        "time_points = 100 # Number of time steps\n",
        "\n",
        "# Synthetic data: each column represents a POC's time series\n",
        "data = np.random.rand(time_points, num_pocs)\n",
        "\n",
        "# Initialize a distance matrix to store DTW distances\n",
        "distance_matrix = np.zeros((num_pocs, num_pocs))\n",
        "\n",
        "# Compute DTW distances for each pair of POCs\n",
        "for i in range(num_pocs):\n",
        "    for j in range(i, num_pocs):\n",
        "        distance, _ = fastdtw(data[:, i], data[:, j], dist=distance_func)\n",
        "        distance_matrix[i, j] = distance\n",
        "        distance_matrix[j, i] = distance  # DTW distance is symmetric\n",
        "\n",
        "print(\"DTW Distance Matrix:\")\n",
        "print(distance_matrix)\n"
      ],
      "metadata": {
        "colab": {
          "base_uri": "https://localhost:8080/"
        },
        "id": "Nd9Zy_sdpkAH",
        "outputId": "3ebb70f9-3d2f-4674-9d1d-804f152cbb36"
      },
      "execution_count": null,
      "outputs": [
        {
          "output_type": "stream",
          "name": "stdout",
          "text": [
            "DTW Distance Matrix:\n",
            "[[ 0.         23.61640928 21.36818676 18.53723285 25.08882841]\n",
            " [23.61640928  0.         21.54035057 24.29120754 21.2258704 ]\n",
            " [21.36818676 21.54035057  0.         24.02886081 20.68632799]\n",
            " [18.53723285 24.29120754 24.02886081  0.         20.09840659]\n",
            " [25.08882841 21.2258704  20.68632799 20.09840659  0.        ]]\n"
          ]
        }
      ]
    },
    {
      "cell_type": "code",
      "source": [
        "import os\n",
        "import pandas as pd\n",
        "import numpy as np\n",
        "from fastdtw import fastdtw\n",
        "\n",
        "# Path to the featured dataset CSV file\n",
        "FEATURED_DATA_PATH = \"/content/drive/MyDrive/WattGrid/data/processed/featured_data.csv\"\n",
        "\n",
        "# Check if file exists and load it\n",
        "if os.path.exists(FEATURED_DATA_PATH):\n",
        "    print(\" Featured data exists!\")\n",
        "    df = pd.read_csv(FEATURED_DATA_PATH)\n",
        "    print(\"Sample data:\")\n",
        "    print(df.head())\n",
        "else:\n",
        "    raise FileNotFoundError(\"Error: Featured data not found!\")\n",
        "\n",
        "# Convert TradingDate to datetime for proper sorting\n",
        "df['TradingDate'] = pd.to_datetime(df['TradingDate'])\n",
        "\n",
        "# Create a time index by combining TradingDate and TradingPeriod\n",
        "# This will serve as the index for our pivot table.\n",
        "df['TimeIndex'] = df['TradingDate'].dt.strftime('%Y-%m-%d') + '_' + df['TradingPeriod'].astype(str)\n",
        "\n",
        "# Pivot the DataFrame so that each column is a unique PointOfConnection and the values are DollarsPerMegawattHour.\n",
        "pivot_df = df.pivot(index='TimeIndex', columns='PointOfConnection', values='DollarsPerMegawattHour')\n",
        "\n",
        "# Sort the pivoted DataFrame by the time index\n",
        "pivot_df.sort_index(inplace=True)\n",
        "\n",
        "print(\"\\nPivoted DataFrame (first few rows):\")\n",
        "print(pivot_df.head())\n",
        "\n",
        "# Handle any missing values by forward filling then back filling (if necessary)\n",
        "pivot_df = pivot_df.fillna(method='ffill').fillna(method='bfill')\n",
        "\n",
        "# Extract the time series data for each POC as columns.\n",
        "poc_names = list(pivot_df.columns)\n",
        "num_pocs = pivot_df.shape[1]\n",
        "distance_matrix = np.zeros((num_pocs, num_pocs))\n",
        "\n",
        "# Define a simple custom distance function: absolute difference between scalars.\n",
        "distance_func = lambda x, y: abs(x - y)\n",
        "\n",
        "# Compute DTW distances for each pair of POCs\n",
        "for i in range(num_pocs):\n",
        "    ts_i = pivot_df.iloc[:, i].values\n",
        "    for j in range(i, num_pocs):\n",
        "        ts_j = pivot_df.iloc[:, j].values\n",
        "        distance, _ = fastdtw(ts_i, ts_j, dist=distance_func)\n",
        "        distance_matrix[i, j] = distance\n",
        "        distance_matrix[j, i] = distance  # DTW is symmetric\n",
        "\n",
        "# Create a DataFrame for the distance matrix for better readability\n",
        "distance_df = pd.DataFrame(distance_matrix, index=poc_names, columns=poc_names)\n",
        "\n",
        "print(\"\\nDTW Distance Matrix:\")\n",
        "print(distance_df)\n"
      ],
      "metadata": {
        "colab": {
          "base_uri": "https://localhost:8080/"
        },
        "id": "C82GPSMBq5fC",
        "outputId": "10f703f9-2cde-4f08-bf84-6fdf3ed3bb17"
      },
      "execution_count": null,
      "outputs": [
        {
          "output_type": "stream",
          "name": "stdout",
          "text": [
            "✅ Featured data exists!\n",
            "Sample data:\n",
            "  TradingDate  TradingPeriod                PublishDateTime PointOfConnection  \\\n",
            "0  2022-12-03              1  2022-12-02T23:33:02.000+13:00           ALB0331   \n",
            "1  2022-12-03              1  2022-12-02T23:33:02.000+13:00           ALB1101   \n",
            "2  2022-12-03              1  2022-12-02T23:33:02.000+13:00           ARA2201   \n",
            "3  2022-12-03              1  2022-12-02T23:33:02.000+13:00           ARI1101   \n",
            "4  2022-12-03              1  2022-12-02T23:33:02.000+13:00           ARI1102   \n",
            "\n",
            "  Island IsProxyPriceFlag  DollarsPerMegawattHour  \\\n",
            "0     NI                N                    0.54   \n",
            "1     NI                N                    0.54   \n",
            "2     NI                N                    0.49   \n",
            "3     NI                N                    0.47   \n",
            "4     NI                N                    0.52   \n",
            "\n",
            "                                       source_file  RollingMean_7  \\\n",
            "0  data/raw/2022/20221203_DispatchEnergyPrices.csv       0.512857   \n",
            "1  data/raw/2022/20221203_DispatchEnergyPrices.csv       0.512857   \n",
            "2  data/raw/2022/20221203_DispatchEnergyPrices.csv       0.512857   \n",
            "3  data/raw/2022/20221203_DispatchEnergyPrices.csv       0.512857   \n",
            "4  data/raw/2022/20221203_DispatchEnergyPrices.csv       0.512857   \n",
            "\n",
            "   RollingStd_7  Lag_1  Lag_7  PriceVolatility  \n",
            "0      0.029277   0.54   0.54         0.057086  \n",
            "1      0.029277   0.54   0.54         0.057086  \n",
            "2      0.029277   0.54   0.54         0.057086  \n",
            "3      0.029277   0.49   0.54         0.057086  \n",
            "4      0.029277   0.47   0.54         0.057086  \n",
            "\n",
            "Pivoted DataFrame (first few rows):\n",
            "PointOfConnection  ABY0111  ALB0331  ALB1101  APS0111  ARA2201  ARG1101  \\\n",
            "TimeIndex                                                                 \n",
            "2022-11-01_1         10.99    10.81    10.79    12.09     9.95    11.50   \n",
            "2022-11-01_10         0.03     0.03     0.03     0.03     0.03     0.03   \n",
            "2022-11-01_11         0.90     0.93     0.93     1.00     0.88     0.96   \n",
            "2022-11-01_12         0.03     0.03     0.03     0.04     0.03     0.03   \n",
            "2022-11-01_13        10.02    10.90    10.90    11.53     9.97    10.49   \n",
            "\n",
            "PointOfConnection  ARI1101  ARI1102  ASB0661  ASY0111  ...  WRK0331  WRK2201  \\\n",
            "TimeIndex                                              ...                     \n",
            "2022-11-01_1          9.80    10.44    11.07    11.69  ...     9.93     9.96   \n",
            "2022-11-01_10         0.03     0.03     0.03     0.03  ...     0.03     0.03   \n",
            "2022-11-01_11         0.90     0.92     0.92     0.97  ...     0.88     0.88   \n",
            "2022-11-01_12         0.03     0.03     0.03     0.03  ...     0.03     0.03   \n",
            "2022-11-01_13         9.93    10.30    10.12    10.65  ...     9.95     9.98   \n",
            "\n",
            "PointOfConnection  WTK0111  WTK0331  WTK2201  WTU0331  WVY0111  WVY1101  \\\n",
            "TimeIndex                                                                 \n",
            "2022-11-01_1         10.53    10.55    10.58    10.04    10.66    10.65   \n",
            "2022-11-01_10         0.03     0.03     0.03     0.03     0.03     0.03   \n",
            "2022-11-01_11         0.87     0.87     0.87     0.89     0.91     0.91   \n",
            "2022-11-01_12         0.03     0.03     0.03     0.03     0.03     0.03   \n",
            "2022-11-01_13         9.67     9.68     9.71    10.07    10.41    10.38   \n",
            "\n",
            "PointOfConnection  WWD1102  WWD1103  \n",
            "TimeIndex                            \n",
            "2022-11-01_1         10.64    10.65  \n",
            "2022-11-01_10         0.03     0.03  \n",
            "2022-11-01_11         0.88     0.88  \n",
            "2022-11-01_12         0.03     0.03  \n",
            "2022-11-01_13        10.03    10.03  \n",
            "\n",
            "[5 rows x 246 columns]\n"
          ]
        },
        {
          "output_type": "stream",
          "name": "stderr",
          "text": [
            "<ipython-input-7-0720747f304e>:35: FutureWarning: DataFrame.fillna with 'method' is deprecated and will raise in a future version. Use obj.ffill() or obj.bfill() instead.\n",
            "  pivot_df = pivot_df.fillna(method='ffill').fillna(method='bfill')\n"
          ]
        },
        {
          "output_type": "stream",
          "name": "stdout",
          "text": [
            "\n",
            "DTW Distance Matrix:\n",
            "            ABY0111     ALB0331     ALB1101    APS0111    ARA2201     ARG1101  \\\n",
            "ABY0111        0.00  1024198.70  1021853.60  432165.85  899262.25   786016.80   \n",
            "ALB0331  1024198.70        0.00     8074.25  893849.57  657819.24   895950.62   \n",
            "ALB1101  1021853.60     8074.25        0.00  893336.40  640778.88   896377.81   \n",
            "APS0111   432165.85   893849.57   893336.40       0.00  977660.66   323645.30   \n",
            "ARA2201   899262.25   657819.24   640778.88  977660.66       0.00  1012517.99   \n",
            "...             ...         ...         ...        ...        ...         ...   \n",
            "WTU0331   831516.08   469644.50   460344.96  948444.10  134055.95   972879.44   \n",
            "WVY0111   687234.26   700048.77   691436.31  894414.29  353804.96   981392.91   \n",
            "WVY1101   677879.25   734796.36   708774.83  898606.64  352598.96   985665.24   \n",
            "WWD1102   477388.73   607240.90   602871.35  591480.24  443669.44   910871.21   \n",
            "WWD1103   477638.87   607001.28   602683.32  591444.81  443484.87   909673.33   \n",
            "\n",
            "           ARI1101    ARI1102    ASB0661     ASY0111  ...    WRK0331  \\\n",
            "ABY0111  813123.65  843566.08  229541.74   790882.81  ...  833716.97   \n",
            "ALB0331  711625.92  290068.57  836445.84   905813.55  ...  570979.38   \n",
            "ALB1101  679993.83  286316.20  834772.13   903273.74  ...  562963.33   \n",
            "APS0111  940095.44  783706.05  223400.68   343187.00  ...  901701.21   \n",
            "ARA2201  230107.33  348836.44  963771.81  1037374.29  ...   76843.74   \n",
            "...            ...        ...        ...         ...  ...        ...   \n",
            "WTU0331  212892.22  206990.91  783184.66   956592.06  ...   69022.73   \n",
            "WVY0111  328103.59  413638.85  710583.29  1002716.36  ...  272446.94   \n",
            "WVY1101  329739.76  439411.39  719881.80  1006790.04  ...  274932.50   \n",
            "WWD1102  424135.04  440565.38  440235.07   935468.44  ...  373145.09   \n",
            "WWD1103  423857.89  439610.79  442922.83   935242.70  ...  372870.24   \n",
            "\n",
            "           WRK2201    WTK0111    WTK0331    WTK2201    WTU0331    WVY0111  \\\n",
            "ABY0111  832681.83  194067.53  178311.32  174418.33  831516.08  687234.26   \n",
            "ALB0331  558746.22  955245.44  956434.97  952361.64  469644.50  700048.77   \n",
            "ALB1101  543118.80  954893.27  949719.75  949043.44  460344.96  691436.31   \n",
            "APS0111  899723.64  524731.48  508306.33  497929.86  948444.10  894414.29   \n",
            "ARA2201   73266.14  849830.83  852740.61  869231.24  134055.95  353804.96   \n",
            "...            ...        ...        ...        ...        ...        ...   \n",
            "WTU0331   61817.24  754479.50  761000.20  760111.14       0.00  289763.10   \n",
            "WVY0111  268943.09  575858.73  571928.75  579188.68  289763.10       0.00   \n",
            "WVY1101  270905.56  620263.86  620644.62  620287.48  304811.81   21099.05   \n",
            "WWD1102  371033.92  377880.65  374375.60  360235.29  376684.70  272803.62   \n",
            "WWD1103  370786.39  378220.06  374701.68  360527.36  376362.64  272695.27   \n",
            "\n",
            "           WVY1101    WWD1102    WWD1103  \n",
            "ABY0111  677879.25  477388.73  477638.87  \n",
            "ALB0331  734796.36  607240.90  607001.28  \n",
            "ALB1101  708774.83  602871.35  602683.32  \n",
            "APS0111  898606.64  591480.24  591444.81  \n",
            "ARA2201  352598.96  443669.44  443484.87  \n",
            "...            ...        ...        ...  \n",
            "WTU0331  304811.81  376684.70  376362.64  \n",
            "WVY0111   21099.05  272803.62  272695.27  \n",
            "WVY1101       0.00  283505.06  283390.06  \n",
            "WWD1102  283505.06       0.00    1045.35  \n",
            "WWD1103  283390.06    1045.35       0.00  \n",
            "\n",
            "[246 rows x 246 columns]\n"
          ]
        }
      ]
    },
    {
      "cell_type": "code",
      "source": [
        "# Define the output file path for the DTW adjacency matrix\n",
        "OUTPUT_PATH = \"/content/drive/MyDrive/WattGrid/data/processed/dtw_adjacency_matrix.csv\"\n",
        "\n",
        "# Save the DataFrame to a CSV file\n",
        "distance_df.to_csv(OUTPUT_PATH)\n",
        "\n",
        "print(\"DTW Adjacency Matrix saved to:\", OUTPUT_PATH)\n"
      ],
      "metadata": {
        "colab": {
          "base_uri": "https://localhost:8080/"
        },
        "id": "iwAWf0qffiCR",
        "outputId": "4549f069-7f50-43b8-81d6-6ec85d2e20d9"
      },
      "execution_count": null,
      "outputs": [
        {
          "output_type": "stream",
          "name": "stdout",
          "text": [
            "DTW Adjacency Matrix saved to: /content/drive/MyDrive/WattGrid/data/processed/dtw_adjacency_matrix.csv\n"
          ]
        }
      ]
    },
    {
      "cell_type": "code",
      "source": [
        "import numpy as np\n",
        "import pandas as pd\n",
        "\n",
        "# Assume 'distance_matrix' is the DTW grid you computed and stored in a DataFrame 'distance_df'\n",
        "\n",
        "# Calculate sigma as the standard deviation of the distances\n",
        "sigma = np.std(distance_matrix)\n",
        "\n",
        "# Apply the Gaussian (RBF) kernel transformation to convert distances to similarities\n",
        "adjacency_matrix = np.exp(- (distance_matrix**2) / (2 * sigma**2))\n",
        "\n",
        "# Convert the result into a DataFrame for easier interpretation\n",
        "adjacency_df = pd.DataFrame(adjacency_matrix, index=distance_df.index, columns=distance_df.columns)\n",
        "\n",
        "print(\"Adjacency Matrix (Gaussian Kernel Transformation):\")\n",
        "print(adjacency_df.head())\n"
      ],
      "metadata": {
        "colab": {
          "base_uri": "https://localhost:8080/"
        },
        "id": "QN7ns5VrgY1h",
        "outputId": "42bcc74a-0583-4b3f-8b7d-72192774e114"
      },
      "execution_count": null,
      "outputs": [
        {
          "output_type": "stream",
          "name": "stdout",
          "text": [
            "Adjacency Matrix (Gaussian Kernel Transformation):\n",
            "          ABY0111   ALB0331   ALB1101   APS0111   ARA2201   ARG1101   ARI1101  \\\n",
            "ABY0111  1.000000  0.285198  0.286840  0.799818  0.380160  0.477635  0.453504   \n",
            "ALB0331  0.285198  1.000000  0.999922  0.384599  0.595988  0.382873  0.545713   \n",
            "ALB1101  0.286840  0.999922  1.000000  0.385021  0.611972  0.382523  0.575213   \n",
            "APS0111  0.799818  0.384599  0.385021  1.000000  0.318814  0.882254  0.347501   \n",
            "ARA2201  0.380160  0.595988  0.611972  0.318814  1.000000  0.293430  0.938637   \n",
            "\n",
            "          ARI1102   ASB0661   ASY0111  ...   WRK0331   WRK2201   WTK0111  \\\n",
            "ABY0111  0.426958  0.938929  0.473272  ...  0.435478  0.436377  0.955956   \n",
            "ALB0331  0.904267  0.433111  0.374822  ...  0.677116  0.688401  0.335769   \n",
            "ALB1101  0.906610  0.434562  0.376887  ...  0.684517  0.702725  0.336040   \n",
            "APS0111  0.479712  0.942057  0.868611  ...  0.378169  0.379783  0.719422   \n",
            "ARA2201  0.864559  0.329263  0.276082  ...  0.992963  0.993601  0.421575   \n",
            "\n",
            "          WTK0331   WTK2201   WTU0331   WVY0111   WVY1101   WWD1102   WWD1103  \n",
            "ABY0111  0.962688  0.964270  0.437391  0.568443  0.577192  0.761424  0.761206  \n",
            "ALB0331  0.334857  0.337986  0.768132  0.556485  0.524272  0.643386  0.643610  \n",
            "ALB1101  0.340023  0.340546  0.776118  0.564518  0.548363  0.647468  0.647643  \n",
            "APS0111  0.734171  0.743396  0.341009  0.384135  0.380697  0.658089  0.658122  \n",
            "ARA2201  0.419085  0.405091  0.978736  0.860957  0.861834  0.790238  0.790393  \n",
            "\n",
            "[5 rows x 246 columns]\n"
          ]
        }
      ]
    },
    {
      "cell_type": "code",
      "source": [
        "import numpy as np\n",
        "import pandas as pd\n",
        "\n",
        "# Assume 'distance_matrix' is the DTW grid you computed and stored in a DataFrame 'distance_df'\n",
        "# For example:\n",
        "# distance_matrix = distance_df.values\n",
        "\n",
        "# Calculate sigma as the standard deviation of the distances\n",
        "sigma = np.std(distance_matrix)\n",
        "\n",
        "# Apply the Gaussian (RBF) kernel transformation to convert distances to similarities\n",
        "adjacency_matrix = np.exp(- (distance_matrix**2) / (2 * sigma**2))\n",
        "\n",
        "# Convert the result into a DataFrame for easier interpretation\n",
        "adjacency_df = pd.DataFrame(adjacency_matrix, index=distance_df.index, columns=distance_df.columns)\n",
        "\n",
        "print(\"Adjacency Matrix (Gaussian Kernel Transformation):\")\n",
        "print(adjacency_df.head())\n",
        "\n",
        "# Define the output CSV file path\n",
        "output_path = \"/content/drive/MyDrive/WattGrid/data/processed/dtw_adjacency2_matrix.csv\"\n",
        "\n",
        "# Save the adjacency matrix DataFrame to a CSV file\n",
        "adjacency_df.to_csv(output_path)\n",
        "\n",
        "print(\"Adjacency matrix saved to:\", output_path)\n"
      ],
      "metadata": {
        "colab": {
          "base_uri": "https://localhost:8080/"
        },
        "id": "IWTRJoqXh87e",
        "outputId": "12271d81-67fc-402c-a95e-75562dbc0a47"
      },
      "execution_count": null,
      "outputs": [
        {
          "output_type": "stream",
          "name": "stdout",
          "text": [
            "Adjacency Matrix (Gaussian Kernel Transformation):\n",
            "          ABY0111   ALB0331   ALB1101   APS0111   ARA2201   ARG1101   ARI1101  \\\n",
            "ABY0111  1.000000  0.285198  0.286840  0.799818  0.380160  0.477635  0.453504   \n",
            "ALB0331  0.285198  1.000000  0.999922  0.384599  0.595988  0.382873  0.545713   \n",
            "ALB1101  0.286840  0.999922  1.000000  0.385021  0.611972  0.382523  0.575213   \n",
            "APS0111  0.799818  0.384599  0.385021  1.000000  0.318814  0.882254  0.347501   \n",
            "ARA2201  0.380160  0.595988  0.611972  0.318814  1.000000  0.293430  0.938637   \n",
            "\n",
            "          ARI1102   ASB0661   ASY0111  ...   WRK0331   WRK2201   WTK0111  \\\n",
            "ABY0111  0.426958  0.938929  0.473272  ...  0.435478  0.436377  0.955956   \n",
            "ALB0331  0.904267  0.433111  0.374822  ...  0.677116  0.688401  0.335769   \n",
            "ALB1101  0.906610  0.434562  0.376887  ...  0.684517  0.702725  0.336040   \n",
            "APS0111  0.479712  0.942057  0.868611  ...  0.378169  0.379783  0.719422   \n",
            "ARA2201  0.864559  0.329263  0.276082  ...  0.992963  0.993601  0.421575   \n",
            "\n",
            "          WTK0331   WTK2201   WTU0331   WVY0111   WVY1101   WWD1102   WWD1103  \n",
            "ABY0111  0.962688  0.964270  0.437391  0.568443  0.577192  0.761424  0.761206  \n",
            "ALB0331  0.334857  0.337986  0.768132  0.556485  0.524272  0.643386  0.643610  \n",
            "ALB1101  0.340023  0.340546  0.776118  0.564518  0.548363  0.647468  0.647643  \n",
            "APS0111  0.734171  0.743396  0.341009  0.384135  0.380697  0.658089  0.658122  \n",
            "ARA2201  0.419085  0.405091  0.978736  0.860957  0.861834  0.790238  0.790393  \n",
            "\n",
            "[5 rows x 246 columns]\n",
            "Adjacency matrix saved to: /content/drive/MyDrive/WattGrid/data/processed/dtw_adjacency2_matrix.csv\n"
          ]
        }
      ]
    }
  ]
}